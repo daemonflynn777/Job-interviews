{
 "cells": [
  {
   "cell_type": "markdown",
   "id": "1c9aa173",
   "metadata": {},
   "source": [
    "# Imports"
   ]
  },
  {
   "cell_type": "code",
   "execution_count": 89,
   "id": "a4bf5558",
   "metadata": {},
   "outputs": [],
   "source": [
    "import pandas as pd\n",
    "from typing import Union, List\n",
    "from transformers import BertConfig, BertModel, BertForSequenceClassification, BertTokenizerFast\n",
    "import torch\n",
    "from torch.utils.data import DataLoader\n",
    "import numpy as np\n",
    "import random\n",
    "from sklearn.model_selection import train_test_split"
   ]
  },
  {
   "cell_type": "markdown",
   "id": "13676578",
   "metadata": {},
   "source": [
    "# Init random seeds"
   ]
  },
  {
   "cell_type": "code",
   "execution_count": 74,
   "id": "981cab2c",
   "metadata": {},
   "outputs": [],
   "source": [
    "def setSeeds(seed: int) -> None:\n",
    "    random.seed(seed)\n",
    "    np.random.seed(seed)\n",
    "    torch.manual_seed(seed)\n",
    "    torch.cuda.manual_seed_all(seed)\n",
    "    \n",
    "    return None\n",
    "\n",
    "setSeeds(666)"
   ]
  },
  {
   "cell_type": "markdown",
   "id": "8f097146",
   "metadata": {},
   "source": [
    "# Constants"
   ]
  },
  {
   "cell_type": "code",
   "execution_count": 3,
   "id": "bbe24690",
   "metadata": {},
   "outputs": [],
   "source": [
    "DATASET_PATH = \"ML_test_case.xlsx\""
   ]
  },
  {
   "cell_type": "markdown",
   "id": "49bc6bb5",
   "metadata": {},
   "source": [
    "# Functions"
   ]
  },
  {
   "cell_type": "code",
   "execution_count": 4,
   "id": "daee2ece",
   "metadata": {},
   "outputs": [],
   "source": [
    "def readAllSheets(filePath: str) -> pd.DataFrame:\n",
    "    dataframesDict = pd.read_excel(filePath, sheet_name=None)\n",
    "    dataframesList = []\n",
    "    for k in dataframesDict.keys():\n",
    "        dataframesList.append(dataframesDict[k])\n",
    "    return pd.concat(dataframesList).reset_index(drop=True)"
   ]
  },
  {
   "cell_type": "code",
   "execution_count": 32,
   "id": "4b4299ed",
   "metadata": {},
   "outputs": [],
   "source": [
    "def mapCodeToClass(inputDf: pd.DataFrame, codeCol: str) -> pd.DataFrame:\n",
    "    codeToClassDict = {k: v for v, k in enumerate(inputDf[codeCol].unique())}\n",
    "    inputDf[\"class\"] = inputDf[codeCol].replace(codeToClassDict)\n",
    "\n",
    "    return inputDf"
   ]
  },
  {
   "cell_type": "code",
   "execution_count": 63,
   "id": "a475f92b",
   "metadata": {},
   "outputs": [],
   "source": [
    "def cleanNames(inputDf: pd.DataFrame, nameCol: Union[str, List[str]]) -> pd.DataFrame:\n",
    "    if isinstance(nameCol, str):\n",
    "        cols = [nameCol]\n",
    "    else:\n",
    "        cols = nameCol\n",
    "    \n",
    "    for col in cols:\n",
    "        inputDf[col] = inputDf[col].astype('str')\n",
    "        inputDf[col] = inputDf[col].str.replace(r'\\d+', '', regex=True)\n",
    "        inputDf[col] = inputDf[col].str.replace(r'[^\\w\\s]', ' ', regex=True)\n",
    "        inputDf[col] = inputDf[col].str.replace(r'_', ' ', regex=True)\n",
    "        inputDf[col] = inputDf[col].apply(lambda x: ' '.join(word for word in x.split() if len(word)>3))\n",
    "    \n",
    "    return inputDf"
   ]
  },
  {
   "cell_type": "code",
   "execution_count": 64,
   "id": "fc8742eb",
   "metadata": {},
   "outputs": [],
   "source": [
    "def unionNames(inputDf: pd.DataFrame, unionCols: List[str], labelCol: str) -> pd.DataFrame:\n",
    "    dataframesList = []\n",
    "    for col in unionCols:\n",
    "        tmpDf = inputDf.copy()\n",
    "        tmpDf = tmpDf[[col, labelCol]].drop_duplicates().rename(columns={col: \"Ledger Name\"})\n",
    "        dataframesList.append(tmpDf)\n",
    "\n",
    "    return pd.concat(dataframesList).reset_index(drop=True)"
   ]
  },
  {
   "cell_type": "markdown",
   "id": "e65f80c1",
   "metadata": {},
   "source": [
    "# Load data"
   ]
  },
  {
   "cell_type": "code",
   "execution_count": 65,
   "id": "e4629ce7",
   "metadata": {},
   "outputs": [
    {
     "name": "stdout",
     "output_type": "stream",
     "text": [
      "Shape of dataset: (2606, 4)\n",
      "Dataset columns: Source Ledger Code, Source Ledger Name, Intelas Ledger Code, Intelas Ledger Name\n"
     ]
    },
    {
     "data": {
      "text/html": [
       "<div>\n",
       "<style scoped>\n",
       "    .dataframe tbody tr th:only-of-type {\n",
       "        vertical-align: middle;\n",
       "    }\n",
       "\n",
       "    .dataframe tbody tr th {\n",
       "        vertical-align: top;\n",
       "    }\n",
       "\n",
       "    .dataframe thead th {\n",
       "        text-align: right;\n",
       "    }\n",
       "</style>\n",
       "<table border=\"1\" class=\"dataframe\">\n",
       "  <thead>\n",
       "    <tr style=\"text-align: right;\">\n",
       "      <th></th>\n",
       "      <th>Source Ledger Code</th>\n",
       "      <th>Source Ledger Name</th>\n",
       "      <th>Intelas Ledger Code</th>\n",
       "      <th>Intelas Ledger Name</th>\n",
       "    </tr>\n",
       "  </thead>\n",
       "  <tbody>\n",
       "    <tr>\n",
       "      <th>0</th>\n",
       "      <td>1100-1001</td>\n",
       "      <td>Cash - Operating</td>\n",
       "      <td>11000-110</td>\n",
       "      <td>Cash - Operating</td>\n",
       "    </tr>\n",
       "    <tr>\n",
       "      <th>1</th>\n",
       "      <td>1100-1002</td>\n",
       "      <td>Cash - Clearing</td>\n",
       "      <td>11000-120</td>\n",
       "      <td>Cash - Depository / Clearing</td>\n",
       "    </tr>\n",
       "    <tr>\n",
       "      <th>2</th>\n",
       "      <td>1100-1003</td>\n",
       "      <td>Cash - Money Market / Other</td>\n",
       "      <td>11000-110</td>\n",
       "      <td>Cash - Operating</td>\n",
       "    </tr>\n",
       "    <tr>\n",
       "      <th>3</th>\n",
       "      <td>1100-1005</td>\n",
       "      <td>Cash - Money Market / Other</td>\n",
       "      <td>11000-110</td>\n",
       "      <td>Cash - Operating</td>\n",
       "    </tr>\n",
       "    <tr>\n",
       "      <th>4</th>\n",
       "      <td>1100-1006</td>\n",
       "      <td>Cash - Money Market / Other</td>\n",
       "      <td>11000-110</td>\n",
       "      <td>Cash - Operating</td>\n",
       "    </tr>\n",
       "    <tr>\n",
       "      <th>...</th>\n",
       "      <td>...</td>\n",
       "      <td>...</td>\n",
       "      <td>...</td>\n",
       "      <td>...</td>\n",
       "    </tr>\n",
       "    <tr>\n",
       "      <th>2601</th>\n",
       "      <td>2136-0000</td>\n",
       "      <td>Insurance Payable</td>\n",
       "      <td>21000-900</td>\n",
       "      <td>A/P - General</td>\n",
       "    </tr>\n",
       "    <tr>\n",
       "      <th>2602</th>\n",
       "      <td>5461-0010</td>\n",
       "      <td>Management Services</td>\n",
       "      <td>56050-900</td>\n",
       "      <td>G&amp;A Other - General</td>\n",
       "    </tr>\n",
       "    <tr>\n",
       "      <th>2603</th>\n",
       "      <td>4407-0060</td>\n",
       "      <td>Less: Extraordinary Bad Debt</td>\n",
       "      <td>43020-110</td>\n",
       "      <td>Write Offs</td>\n",
       "    </tr>\n",
       "    <tr>\n",
       "      <th>2604</th>\n",
       "      <td>4412-0002</td>\n",
       "      <td>Flooring Damage / Replace</td>\n",
       "      <td>44000-440</td>\n",
       "      <td>Damage Fees</td>\n",
       "    </tr>\n",
       "    <tr>\n",
       "      <th>2605</th>\n",
       "      <td>5206-0012</td>\n",
       "      <td>R&amp;M - Golf Cart</td>\n",
       "      <td>53220-110</td>\n",
       "      <td>Vehicle - General</td>\n",
       "    </tr>\n",
       "  </tbody>\n",
       "</table>\n",
       "<p>2606 rows × 4 columns</p>\n",
       "</div>"
      ],
      "text/plain": [
       "     Source Ledger Code            Source Ledger Name Intelas Ledger Code  \\\n",
       "0             1100-1001              Cash - Operating           11000-110   \n",
       "1             1100-1002               Cash - Clearing           11000-120   \n",
       "2             1100-1003   Cash - Money Market / Other           11000-110   \n",
       "3             1100-1005   Cash - Money Market / Other           11000-110   \n",
       "4             1100-1006   Cash - Money Market / Other           11000-110   \n",
       "...                 ...                           ...                 ...   \n",
       "2601          2136-0000             Insurance Payable           21000-900   \n",
       "2602          5461-0010           Management Services           56050-900   \n",
       "2603          4407-0060  Less: Extraordinary Bad Debt           43020-110   \n",
       "2604          4412-0002     Flooring Damage / Replace           44000-440   \n",
       "2605          5206-0012               R&M - Golf Cart           53220-110   \n",
       "\n",
       "               Intelas Ledger Name  \n",
       "0                 Cash - Operating  \n",
       "1     Cash - Depository / Clearing  \n",
       "2                 Cash - Operating  \n",
       "3                 Cash - Operating  \n",
       "4                 Cash - Operating  \n",
       "...                            ...  \n",
       "2601                 A/P - General  \n",
       "2602           G&A Other - General  \n",
       "2603                    Write Offs  \n",
       "2604                   Damage Fees  \n",
       "2605             Vehicle - General  \n",
       "\n",
       "[2606 rows x 4 columns]"
      ]
     },
     "execution_count": 65,
     "metadata": {},
     "output_type": "execute_result"
    }
   ],
   "source": [
    "raw_dataset_df = readAllSheets(DATASET_PATH)\n",
    "print(f\"Shape of dataset: {raw_dataset_df.shape}\")\n",
    "print(f\"Dataset columns: {', '.join(list(raw_dataset_df.columns))}\")\n",
    "raw_dataset_df"
   ]
  },
  {
   "cell_type": "markdown",
   "id": "dd6a74c0",
   "metadata": {},
   "source": [
    "# Process data"
   ]
  },
  {
   "cell_type": "code",
   "execution_count": 83,
   "id": "2e86d4ba",
   "metadata": {},
   "outputs": [
    {
     "data": {
      "text/html": [
       "<div>\n",
       "<style scoped>\n",
       "    .dataframe tbody tr th:only-of-type {\n",
       "        vertical-align: middle;\n",
       "    }\n",
       "\n",
       "    .dataframe tbody tr th {\n",
       "        vertical-align: top;\n",
       "    }\n",
       "\n",
       "    .dataframe thead th {\n",
       "        text-align: right;\n",
       "    }\n",
       "</style>\n",
       "<table border=\"1\" class=\"dataframe\">\n",
       "  <thead>\n",
       "    <tr style=\"text-align: right;\">\n",
       "      <th></th>\n",
       "      <th>Ledger Name</th>\n",
       "      <th>class</th>\n",
       "    </tr>\n",
       "  </thead>\n",
       "  <tbody>\n",
       "    <tr>\n",
       "      <th>0</th>\n",
       "      <td>Cash Operating</td>\n",
       "      <td>0</td>\n",
       "    </tr>\n",
       "    <tr>\n",
       "      <th>1</th>\n",
       "      <td>Cash Clearing</td>\n",
       "      <td>1</td>\n",
       "    </tr>\n",
       "    <tr>\n",
       "      <th>2</th>\n",
       "      <td>Cash Money Market Other</td>\n",
       "      <td>0</td>\n",
       "    </tr>\n",
       "    <tr>\n",
       "      <th>3</th>\n",
       "      <td>Cash Borrowers Acct</td>\n",
       "      <td>0</td>\n",
       "    </tr>\n",
       "    <tr>\n",
       "      <th>4</th>\n",
       "      <td>Cash Payroll</td>\n",
       "      <td>0</td>\n",
       "    </tr>\n",
       "    <tr>\n",
       "      <th>...</th>\n",
       "      <td>...</td>\n",
       "      <td>...</td>\n",
       "    </tr>\n",
       "    <tr>\n",
       "      <th>1439</th>\n",
       "      <td>Convenience Credit Card</td>\n",
       "      <td>279</td>\n",
       "    </tr>\n",
       "    <tr>\n",
       "      <th>1440</th>\n",
       "      <td>Interest Income</td>\n",
       "      <td>280</td>\n",
       "    </tr>\n",
       "    <tr>\n",
       "      <th>1441</th>\n",
       "      <td>Exterior General</td>\n",
       "      <td>281</td>\n",
       "    </tr>\n",
       "    <tr>\n",
       "      <th>1442</th>\n",
       "      <td>Drainage</td>\n",
       "      <td>282</td>\n",
       "    </tr>\n",
       "    <tr>\n",
       "      <th>1443</th>\n",
       "      <td>Loan Payable</td>\n",
       "      <td>283</td>\n",
       "    </tr>\n",
       "  </tbody>\n",
       "</table>\n",
       "<p>1444 rows × 2 columns</p>\n",
       "</div>"
      ],
      "text/plain": [
       "                  Ledger Name  class\n",
       "0              Cash Operating      0\n",
       "1               Cash Clearing      1\n",
       "2     Cash Money Market Other      0\n",
       "3         Cash Borrowers Acct      0\n",
       "4                Cash Payroll      0\n",
       "...                       ...    ...\n",
       "1439  Convenience Credit Card    279\n",
       "1440          Interest Income    280\n",
       "1441         Exterior General    281\n",
       "1442                 Drainage    282\n",
       "1443             Loan Payable    283\n",
       "\n",
       "[1444 rows x 2 columns]"
      ]
     },
     "execution_count": 83,
     "metadata": {},
     "output_type": "execute_result"
    }
   ],
   "source": [
    "# map code to class\n",
    "procesed_dataset_df = mapCodeToClass(raw_dataset_df, \"Intelas Ledger Code\")\n",
    "\n",
    "# union names\n",
    "procesed_dataset_df = unionNames(procesed_dataset_df, [\"Source Ledger Name\", \"Intelas Ledger Name\"], \"class\")\n",
    "\n",
    "# clean names\n",
    "procesed_dataset_df = cleanNames(procesed_dataset_df, \"Ledger Name\")\n",
    "procesed_dataset_df"
   ]
  },
  {
   "cell_type": "markdown",
   "id": "ca8d8470",
   "metadata": {},
   "source": [
    "# Split dataset into train and eval"
   ]
  },
  {
   "cell_type": "code",
   "execution_count": 79,
   "id": "db7eabac",
   "metadata": {},
   "outputs": [],
   "source": [
    "train_dataset_df = procesed_dataset_df.copy()\n",
    "_, eval_dataset_df = train_test_split(train_dataset_df, test_size=0.2, random_state=42,\n",
    "                                      stratify=train_dataset_df[\"class\"])\n",
    "del _"
   ]
  },
  {
   "cell_type": "markdown",
   "id": "273daf4f",
   "metadata": {},
   "source": [
    "# Init custom PyTorch dataset and dataloader"
   ]
  },
  {
   "cell_type": "code",
   "execution_count": 85,
   "id": "8d1a9b61",
   "metadata": {},
   "outputs": [],
   "source": [
    "class LedgerDataset(torch.utils.data.Dataset):\n",
    "    def __init__(self, data: pd.DataFrame, labels: pd.Series):\n",
    "        self.data = data.to_numpy()\n",
    "        self.labels = labels.to_numpy()\n",
    "\n",
    "    def __getitem__(self, idx):\n",
    "        return self.data[idx], self.labels[idx]\n",
    "\n",
    "    def __len__(self):\n",
    "        return self.labels.shape[0]"
   ]
  },
  {
   "cell_type": "code",
   "execution_count": 86,
   "id": "9f12b9cd",
   "metadata": {},
   "outputs": [],
   "source": [
    "train_dataset = LedgerDataset(train_dataset_df.drop(columns=[\"class\"]), train_dataset_df[\"class\"])\n",
    "eval_dataset = LedgerDataset(eval_dataset_df.drop(columns=[\"class\"]), train_dataset_df[\"class\"])"
   ]
  },
  {
   "cell_type": "code",
   "execution_count": 87,
   "id": "3a95de9c",
   "metadata": {},
   "outputs": [],
   "source": [
    "train_dataloader = DataLoader(train_dataset, batch_size=64, shuffle=True)\n",
    "eval_dataloader = DataLoader(eval_dataset, batch_size=64, shuffle=True)"
   ]
  },
  {
   "cell_type": "markdown",
   "id": "22acf0f8",
   "metadata": {},
   "source": [
    "# Init tokenizer, model and trainer"
   ]
  },
  {
   "cell_type": "code",
   "execution_count": 93,
   "id": "d7f285a1",
   "metadata": {},
   "outputs": [],
   "source": [
    "modelName = \"bert-base-uncased\"\n",
    "maxSeqLength = 512\n",
    "numClasses = procesed_dataset_df[\"class\"].nunique()\n",
    "\n",
    "if torch.cuda.is_available():\n",
    "    device = \"cuda:0\"\n",
    "else:\n",
    "    device = \"cpu\""
   ]
  },
  {
   "cell_type": "code",
   "execution_count": 91,
   "id": "145702c6",
   "metadata": {},
   "outputs": [
    {
     "data": {
      "application/vnd.jupyter.widget-view+json": {
       "model_id": "568fe66b24d94e6f997f8a0a43f24595",
       "version_major": 2,
       "version_minor": 0
      },
      "text/plain": [
       "Downloading tokenizer_config.json:   0%|          | 0.00/28.0 [00:00<?, ?B/s]"
      ]
     },
     "metadata": {},
     "output_type": "display_data"
    },
    {
     "data": {
      "application/vnd.jupyter.widget-view+json": {
       "model_id": "a547ae79cb464205a4858bcbcce6259b",
       "version_major": 2,
       "version_minor": 0
      },
      "text/plain": [
       "Downloading vocab.txt:   0%|          | 0.00/226k [00:00<?, ?B/s]"
      ]
     },
     "metadata": {},
     "output_type": "display_data"
    },
    {
     "data": {
      "application/vnd.jupyter.widget-view+json": {
       "model_id": "3f61960af6784bbdafbb56b8e8e45605",
       "version_major": 2,
       "version_minor": 0
      },
      "text/plain": [
       "Downloading tokenizer.json:   0%|          | 0.00/455k [00:00<?, ?B/s]"
      ]
     },
     "metadata": {},
     "output_type": "display_data"
    },
    {
     "data": {
      "application/vnd.jupyter.widget-view+json": {
       "model_id": "63fea5cbc37b423ba1209b5c97911805",
       "version_major": 2,
       "version_minor": 0
      },
      "text/plain": [
       "Downloading config.json:   0%|          | 0.00/570 [00:00<?, ?B/s]"
      ]
     },
     "metadata": {},
     "output_type": "display_data"
    }
   ],
   "source": [
    "tokenizer = BertTokenizerFast.from_pretrained(modelName, do_lower_case=True)"
   ]
  },
  {
   "cell_type": "code",
   "execution_count": 94,
   "id": "6012170a",
   "metadata": {},
   "outputs": [
    {
     "data": {
      "application/vnd.jupyter.widget-view+json": {
       "model_id": "3c7026a18b0f4c19a2e401231fe1e3ea",
       "version_major": 2,
       "version_minor": 0
      },
      "text/plain": [
       "Downloading pytorch_model.bin:   0%|          | 0.00/420M [00:00<?, ?B/s]"
      ]
     },
     "metadata": {},
     "output_type": "display_data"
    },
    {
     "name": "stderr",
     "output_type": "stream",
     "text": [
      "Some weights of the model checkpoint at bert-base-uncased were not used when initializing BertForSequenceClassification: ['cls.predictions.bias', 'cls.predictions.transform.dense.bias', 'cls.predictions.transform.LayerNorm.bias', 'cls.seq_relationship.bias', 'cls.predictions.transform.dense.weight', 'cls.predictions.decoder.weight', 'cls.seq_relationship.weight', 'cls.predictions.transform.LayerNorm.weight']\n",
      "- This IS expected if you are initializing BertForSequenceClassification from the checkpoint of a model trained on another task or with another architecture (e.g. initializing a BertForSequenceClassification model from a BertForPreTraining model).\n",
      "- This IS NOT expected if you are initializing BertForSequenceClassification from the checkpoint of a model that you expect to be exactly identical (initializing a BertForSequenceClassification model from a BertForSequenceClassification model).\n",
      "Some weights of BertForSequenceClassification were not initialized from the model checkpoint at bert-base-uncased and are newly initialized: ['classifier.bias', 'classifier.weight']\n",
      "You should probably TRAIN this model on a down-stream task to be able to use it for predictions and inference.\n"
     ]
    }
   ],
   "source": [
    "model = BertForSequenceClassification.from_pretrained(modelName, num_labels=numClasses).to(device)"
   ]
  },
  {
   "cell_type": "code",
   "execution_count": null,
   "id": "e87d36bd",
   "metadata": {},
   "outputs": [],
   "source": []
  }
 ],
 "metadata": {
  "kernelspec": {
   "display_name": "Python 3 (ipykernel)",
   "language": "python",
   "name": "python3"
  },
  "language_info": {
   "codemirror_mode": {
    "name": "ipython",
    "version": 3
   },
   "file_extension": ".py",
   "mimetype": "text/x-python",
   "name": "python",
   "nbconvert_exporter": "python",
   "pygments_lexer": "ipython3",
   "version": "3.10.6"
  }
 },
 "nbformat": 4,
 "nbformat_minor": 5
}
